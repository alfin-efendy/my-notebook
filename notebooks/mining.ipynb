{
 "cells": [
  {
   "cell_type": "code",
   "execution_count": 1,
   "metadata": {},
   "outputs": [
    {
     "name": "stdout",
     "output_type": "stream",
     "text": [
      "{'data': [{'id': 2807239962, 'title': 'Pedro', 'title_short': 'Pedro', 'title_version': '', 'link': 'https://www.deezer.com/track/2807239962', 'duration': 162, 'rank': 211014, 'explicit_lyrics': False, 'explicit_content_lyrics': 0, 'explicit_content_cover': 0, 'preview': 'https://cdn-preview-2.dzcdn.net/stream/c-2d7cef89a4b069385a43a243b1f3d2a0-1.mp3', 'md5_image': '39a8035e8c272711a2bf2bd04c506a05', 'position': 1, 'artist': {'id': 77282, 'name': 'Raffaella Carrà', 'link': 'https://www.deezer.com/artist/77282', 'picture': 'https://api.deezer.com/artist/77282/image', 'picture_small': 'https://e-cdns-images.dzcdn.net/images/artist/1c29ea3a3340eb110c66c71123e95e94/56x56-000000-80-0-0.jpg', 'picture_medium': 'https://e-cdns-images.dzcdn.net/images/artist/1c29ea3a3340eb110c66c71123e95e94/250x250-000000-80-0-0.jpg', 'picture_big': 'https://e-cdns-images.dzcdn.net/images/artist/1c29ea3a3340eb110c66c71123e95e94/500x500-000000-80-0-0.jpg', 'picture_xl': 'https://e-cdns-images.dzcdn.net/images/artist/1c29ea3a3340eb110c66c71123e95e94/1000x1000-000000-80-0-0.jpg', 'radio': True, 'tracklist': 'https://api.deezer.com/artist/77282/top?limit=50', 'type': 'artist'}, 'album': {'id': 588243562, 'title': 'Pedro', 'cover': 'https://api.deezer.com/album/588243562/image', 'cover_small': 'https://e-cdns-images.dzcdn.net/images/cover/39a8035e8c272711a2bf2bd04c506a05/56x56-000000-80-0-0.jpg', 'cover_medium': 'https://e-cdns-images.dzcdn.net/images/cover/39a8035e8c272711a2bf2bd04c506a05/250x250-000000-80-0-0.jpg', 'cover_big': 'https://e-cdns-images.dzcdn.net/images/cover/39a8035e8c272711a2bf2bd04c506a05/500x500-000000-80-0-0.jpg', 'cover_xl': 'https://e-cdns-images.dzcdn.net/images/cover/39a8035e8c272711a2bf2bd04c506a05/1000x1000-000000-80-0-0.jpg', 'md5_image': '39a8035e8c272711a2bf2bd04c506a05', 'tracklist': 'https://api.deezer.com/album/588243562/tracks', 'type': 'album'}, 'type': 'track'}, {'id': 3038842301, 'title': 'Super Tuna', 'title_short': 'Super Tuna', 'title_version': '', 'link': 'https://www.deezer.com/track/3038842301', 'duration': 114, 'rank': 807152, 'explicit_lyrics': False, 'explicit_content_lyrics': 0, 'explicit_content_cover': 0, 'preview': 'https://cdn-preview-d.dzcdn.net/stream/c-dd6e9eb01a86c3ea990cfee0c4bab1d3-1.mp3', 'md5_image': '708f5dcd86ca8a3ff6e88a53e25196d4', 'position': 2, 'artist': {'id': 150688792, 'name': 'Jin', 'link': 'https://www.deezer.com/artist/150688792', 'picture': 'https://api.deezer.com/artist/150688792/image', 'picture_small': 'https://e-cdns-images.dzcdn.net/images/artist/0193b597f99715da3becd690aaeacfa6/56x56-000000-80-0-0.jpg', 'picture_medium': 'https://e-cdns-images.dzcdn.net/images/artist/0193b597f99715da3becd690aaeacfa6/250x250-000000-80-0-0.jpg', 'picture_big': 'https://e-cdns-images.dzcdn.net/images/artist/0193b597f99715da3becd690aaeacfa6/500x500-000000-80-0-0.jpg', 'picture_xl': 'https://e-cdns-images.dzcdn.net/images/artist/0193b597f99715da3becd690aaeacfa6/1000x1000-000000-80-0-0.jpg', 'radio': True, 'tracklist': 'https://api.deezer.com/artist/150688792/top?limit=50', 'type': 'artist'}, 'album': {'id': 654658261, 'title': 'Super Tuna', 'cover': 'https://api.deezer.com/album/654658261/image', 'cover_small': 'https://e-cdns-images.dzcdn.net/images/cover/708f5dcd86ca8a3ff6e88a53e25196d4/56x56-000000-80-0-0.jpg', 'cover_medium': 'https://e-cdns-images.dzcdn.net/images/cover/708f5dcd86ca8a3ff6e88a53e25196d4/250x250-000000-80-0-0.jpg', 'cover_big': 'https://e-cdns-images.dzcdn.net/images/cover/708f5dcd86ca8a3ff6e88a53e25196d4/500x500-000000-80-0-0.jpg', 'cover_xl': 'https://e-cdns-images.dzcdn.net/images/cover/708f5dcd86ca8a3ff6e88a53e25196d4/1000x1000-000000-80-0-0.jpg', 'md5_image': '708f5dcd86ca8a3ff6e88a53e25196d4', 'tracklist': 'https://api.deezer.com/album/654658261/tracks', 'type': 'album'}, 'type': 'track'}, {'id': 4111780, 'title': 'Semi-Charmed Life', 'title_short': 'Semi-Charmed Life', 'title_version': '', 'link': 'https://www.deezer.com/track/4111780', 'duration': 268, 'rank': 407074, 'explicit_lyrics': False, 'explicit_content_lyrics': 0, 'explicit_content_cover': 0, 'preview': 'https://cdnt-preview.dzcdn.net/api/1/1/6/c/8/0/6c8c23d0c2242cdbe7a0958d42cda8bb.mp3?hdnea=exp=1728819468~acl=/api/1/1/6/c/8/0/6c8c23d0c2242cdbe7a0958d42cda8bb.mp3*~data=user_id=0,application_id=42~hmac=5b39a2227ffafcea195ff3c47f2fcb4612a7f76f89523919d3d491e423a7a020', 'md5_image': '9b81413a8079caddb144511b54b2d87b', 'position': 3, 'artist': {'id': 2473, 'name': 'Third Eye Blind', 'link': 'https://www.deezer.com/artist/2473', 'picture': 'https://api.deezer.com/artist/2473/image', 'picture_small': 'https://e-cdns-images.dzcdn.net/images/artist/cedf647a815ce558ee6e165ce516ba05/56x56-000000-80-0-0.jpg', 'picture_medium': 'https://e-cdns-images.dzcdn.net/images/artist/cedf647a815ce558ee6e165ce516ba05/250x250-000000-80-0-0.jpg', 'picture_big': 'https://e-cdns-images.dzcdn.net/images/artist/cedf647a815ce558ee6e165ce516ba05/500x500-000000-80-0-0.jpg', 'picture_xl': 'https://e-cdns-images.dzcdn.net/images/artist/cedf647a815ce558ee6e165ce516ba05/1000x1000-000000-80-0-0.jpg', 'radio': True, 'tracklist': 'https://api.deezer.com/artist/2473/top?limit=50', 'type': 'artist'}, 'album': {'id': 383055, 'title': 'Third Eye Blind', 'cover': 'https://api.deezer.com/album/383055/image', 'cover_small': 'https://e-cdns-images.dzcdn.net/images/cover/9b81413a8079caddb144511b54b2d87b/56x56-000000-80-0-0.jpg', 'cover_medium': 'https://e-cdns-images.dzcdn.net/images/cover/9b81413a8079caddb144511b54b2d87b/250x250-000000-80-0-0.jpg', 'cover_big': 'https://e-cdns-images.dzcdn.net/images/cover/9b81413a8079caddb144511b54b2d87b/500x500-000000-80-0-0.jpg', 'cover_xl': 'https://e-cdns-images.dzcdn.net/images/cover/9b81413a8079caddb144511b54b2d87b/1000x1000-000000-80-0-0.jpg', 'md5_image': '9b81413a8079caddb144511b54b2d87b', 'tracklist': 'https://api.deezer.com/album/383055/tracks', 'type': 'album'}, 'type': 'track'}, {'id': 1984296937, 'title': 'The Astronaut', 'title_short': 'The Astronaut', 'title_version': '', 'link': 'https://www.deezer.com/track/1984296937', 'duration': 282, 'rank': 653646, 'explicit_lyrics': False, 'explicit_content_lyrics': 0, 'explicit_content_cover': 0, 'preview': 'https://cdnt-preview.dzcdn.net/api/1/1/6/a/3/0/6a3dcd2a652d5ef537a5e8c814168c3d.mp3?hdnea=exp=1728819468~acl=/api/1/1/6/a/3/0/6a3dcd2a652d5ef537a5e8c814168c3d.mp3*~data=user_id=0,application_id=42~hmac=1ed0af7a4fbfbcf4047ce2a472125a82fb1abba4c3af84e98b4a5ff535d79d95', 'md5_image': '5c24dae4dfb3392aaccb68a8bdb73767', 'position': 4, 'artist': {'id': 150688792, 'name': 'Jin', 'link': 'https://www.deezer.com/artist/150688792', 'picture': 'https://api.deezer.com/artist/150688792/image', 'picture_small': 'https://e-cdns-images.dzcdn.net/images/artist/0193b597f99715da3becd690aaeacfa6/56x56-000000-80-0-0.jpg', 'picture_medium': 'https://e-cdns-images.dzcdn.net/images/artist/0193b597f99715da3becd690aaeacfa6/250x250-000000-80-0-0.jpg', 'picture_big': 'https://e-cdns-images.dzcdn.net/images/artist/0193b597f99715da3becd690aaeacfa6/500x500-000000-80-0-0.jpg', 'picture_xl': 'https://e-cdns-images.dzcdn.net/images/artist/0193b597f99715da3becd690aaeacfa6/1000x1000-000000-80-0-0.jpg', 'radio': True, 'tracklist': 'https://api.deezer.com/artist/150688792/top?limit=50', 'type': 'artist'}, 'album': {'id': 369892177, 'title': 'The Astronaut', 'cover': 'https://api.deezer.com/album/369892177/image', 'cover_small': 'https://e-cdns-images.dzcdn.net/images/cover/5c24dae4dfb3392aaccb68a8bdb73767/56x56-000000-80-0-0.jpg', 'cover_medium': 'https://e-cdns-images.dzcdn.net/images/cover/5c24dae4dfb3392aaccb68a8bdb73767/250x250-000000-80-0-0.jpg', 'cover_big': 'https://e-cdns-images.dzcdn.net/images/cover/5c24dae4dfb3392aaccb68a8bdb73767/500x500-000000-80-0-0.jpg', 'cover_xl': 'https://e-cdns-images.dzcdn.net/images/cover/5c24dae4dfb3392aaccb68a8bdb73767/1000x1000-000000-80-0-0.jpg', 'md5_image': '5c24dae4dfb3392aaccb68a8bdb73767', 'tracklist': 'https://api.deezer.com/album/369892177/tracks', 'type': 'album'}, 'type': 'track'}, {'id': 2897231931, 'title': 'Who', 'title_short': 'Who', 'title_version': '', 'link': 'https://www.deezer.com/track/2897231931', 'duration': 170, 'rank': 778339, 'explicit_lyrics': False, 'explicit_content_lyrics': 0, 'explicit_content_cover': 0, 'preview': 'https://cdn-preview-2.dzcdn.net/stream/c-24e0ebecbb78e1224a5b1c2568d3e331-1.mp3', 'md5_image': '30488f9ac4ea7f65cd50d9258df342f1', 'position': 5, 'artist': {'id': 168047437, 'name': 'Jimin', 'link': 'https://www.deezer.com/artist/168047437', 'picture': 'https://api.deezer.com/artist/168047437/image', 'picture_small': 'https://e-cdns-images.dzcdn.net/images/artist/b468c00b0d6ba7af3d95be530e1a2a08/56x56-000000-80-0-0.jpg', 'picture_medium': 'https://e-cdns-images.dzcdn.net/images/artist/b468c00b0d6ba7af3d95be530e1a2a08/250x250-000000-80-0-0.jpg', 'picture_big': 'https://e-cdns-images.dzcdn.net/images/artist/b468c00b0d6ba7af3d95be530e1a2a08/500x500-000000-80-0-0.jpg', 'picture_xl': 'https://e-cdns-images.dzcdn.net/images/artist/b468c00b0d6ba7af3d95be530e1a2a08/1000x1000-000000-80-0-0.jpg', 'radio': True, 'tracklist': 'https://api.deezer.com/artist/168047437/top?limit=50', 'type': 'artist'}, 'album': {'id': 617640271, 'title': 'Who (Remixes)', 'cover': 'https://api.deezer.com/album/617640271/image', 'cover_small': 'https://e-cdns-images.dzcdn.net/images/cover/30488f9ac4ea7f65cd50d9258df342f1/56x56-000000-80-0-0.jpg', 'cover_medium': 'https://e-cdns-images.dzcdn.net/images/cover/30488f9ac4ea7f65cd50d9258df342f1/250x250-000000-80-0-0.jpg', 'cover_big': 'https://e-cdns-images.dzcdn.net/images/cover/30488f9ac4ea7f65cd50d9258df342f1/500x500-000000-80-0-0.jpg', 'cover_xl': 'https://e-cdns-images.dzcdn.net/images/cover/30488f9ac4ea7f65cd50d9258df342f1/1000x1000-000000-80-0-0.jpg', 'md5_image': '30488f9ac4ea7f65cd50d9258df342f1', 'tracklist': 'https://api.deezer.com/album/617640271/tracks', 'type': 'album'}, 'type': 'track'}, {'id': 3024903811, 'title': 'Otonoke', 'title_short': 'Otonoke', 'title_version': '', 'link': 'https://www.deezer.com/track/3024903811', 'duration': 185, 'rank': 904674, 'explicit_lyrics': False, 'explicit_content_lyrics': 0, 'explicit_content_cover': 0, 'preview': 'https://cdnt-preview.dzcdn.net/api/1/1/b/e/6/0/be6e20b058819d2b67e6cb624b8fbccb.mp3?hdnea=exp=1728819468~acl=/api/1/1/b/e/6/0/be6e20b058819d2b67e6cb624b8fbccb.mp3*~data=user_id=0,application_id=42~hmac=7980fe44a57e93c218f97c5a7ab271b1cc3963155e2c10902f4f930376310da5', 'md5_image': '725e2fe052446f8928ada4036b4516d5', 'position': 6, 'artist': {'id': 13046819, 'name': 'Creepy Nuts', 'link': 'https://www.deezer.com/artist/13046819', 'picture': 'https://api.deezer.com/artist/13046819/image', 'picture_small': 'https://e-cdns-images.dzcdn.net/images/artist/b7f4334dd626befb590e9349bca72c99/56x56-000000-80-0-0.jpg', 'picture_medium': 'https://e-cdns-images.dzcdn.net/images/artist/b7f4334dd626befb590e9349bca72c99/250x250-000000-80-0-0.jpg', 'picture_big': 'https://e-cdns-images.dzcdn.net/images/artist/b7f4334dd626befb590e9349bca72c99/500x500-000000-80-0-0.jpg', 'picture_xl': 'https://e-cdns-images.dzcdn.net/images/artist/b7f4334dd626befb590e9349bca72c99/1000x1000-000000-80-0-0.jpg', 'radio': True, 'tracklist': 'https://api.deezer.com/artist/13046819/top?limit=50', 'type': 'artist'}, 'album': {'id': 650474911, 'title': 'Otonoke', 'cover': 'https://api.deezer.com/album/650474911/image', 'cover_small': 'https://e-cdns-images.dzcdn.net/images/cover/725e2fe052446f8928ada4036b4516d5/56x56-000000-80-0-0.jpg', 'cover_medium': 'https://e-cdns-images.dzcdn.net/images/cover/725e2fe052446f8928ada4036b4516d5/250x250-000000-80-0-0.jpg', 'cover_big': 'https://e-cdns-images.dzcdn.net/images/cover/725e2fe052446f8928ada4036b4516d5/500x500-000000-80-0-0.jpg', 'cover_xl': 'https://e-cdns-images.dzcdn.net/images/cover/725e2fe052446f8928ada4036b4516d5/1000x1000-000000-80-0-0.jpg', 'md5_image': '725e2fe052446f8928ada4036b4516d5', 'tracklist': 'https://api.deezer.com/album/650474911/tracks', 'type': 'album'}, 'type': 'track'}, {'id': 2893833591, 'title': 'Be Mine', 'title_short': 'Be Mine', 'title_version': '', 'link': 'https://www.deezer.com/track/2893833591', 'duration': 207, 'rank': 716683, 'explicit_lyrics': False, 'explicit_content_lyrics': 0, 'explicit_content_cover': 0, 'preview': 'https://cdnt-preview.dzcdn.net/api/1/1/4/e/1/0/4e1e6c81c2e0456906f3bb78f9434c3d.mp3?hdnea=exp=1728819468~acl=/api/1/1/4/e/1/0/4e1e6c81c2e0456906f3bb78f9434c3d.mp3*~data=user_id=0,application_id=42~hmac=b1c4f1c234faaa84bf093367d56aa66f8f292fbd031987471cacc54101854c19', 'md5_image': '7c653cf9471ae173c46a704d7433bd68', 'position': 7, 'artist': {'id': 168047437, 'name': 'Jimin', 'link': 'https://www.deezer.com/artist/168047437', 'picture': 'https://api.deezer.com/artist/168047437/image', 'picture_small': 'https://e-cdns-images.dzcdn.net/images/artist/b468c00b0d6ba7af3d95be530e1a2a08/56x56-000000-80-0-0.jpg', 'picture_medium': 'https://e-cdns-images.dzcdn.net/images/artist/b468c00b0d6ba7af3d95be530e1a2a08/250x250-000000-80-0-0.jpg', 'picture_big': 'https://e-cdns-images.dzcdn.net/images/artist/b468c00b0d6ba7af3d95be530e1a2a08/500x500-000000-80-0-0.jpg', 'picture_xl': 'https://e-cdns-images.dzcdn.net/images/artist/b468c00b0d6ba7af3d95be530e1a2a08/1000x1000-000000-80-0-0.jpg', 'radio': True, 'tracklist': 'https://api.deezer.com/artist/168047437/top?limit=50', 'type': 'artist'}, 'album': {'id': 616626971, 'title': 'MUSE', 'cover': 'https://api.deezer.com/album/616626971/image', 'cover_small': 'https://e-cdns-images.dzcdn.net/images/cover/7c653cf9471ae173c46a704d7433bd68/56x56-000000-80-0-0.jpg', 'cover_medium': 'https://e-cdns-images.dzcdn.net/images/cover/7c653cf9471ae173c46a704d7433bd68/250x250-000000-80-0-0.jpg', 'cover_big': 'https://e-cdns-images.dzcdn.net/images/cover/7c653cf9471ae173c46a704d7433bd68/500x500-000000-80-0-0.jpg', 'cover_xl': 'https://e-cdns-images.dzcdn.net/images/cover/7c653cf9471ae173c46a704d7433bd68/1000x1000-000000-80-0-0.jpg', 'md5_image': '7c653cf9471ae173c46a704d7433bd68', 'tracklist': 'https://api.deezer.com/album/616626971/tracks', 'type': 'album'}, 'type': 'track'}, {'id': 2364618815, 'title': 'Seven (feat. Latto)', 'title_short': 'Seven (feat. Latto)', 'title_version': '', 'link': 'https://www.deezer.com/track/2364618815', 'duration': 184, 'rank': 803077, 'explicit_lyrics': True, 'explicit_content_lyrics': 0, 'explicit_content_cover': 0, 'preview': 'https://cdn-preview-6.dzcdn.net/stream/c-6bbad24c10b86b4878332efd3f518fbe-4.mp3', 'md5_image': 'd1ddbc901bf7d7b43187fac1b1e6714e', 'position': 8, 'artist': {'id': 9172904, 'name': 'JUNG KOOK', 'link': 'https://www.deezer.com/artist/9172904', 'picture': 'https://api.deezer.com/artist/9172904/image', 'picture_small': 'https://e-cdns-images.dzcdn.net/images/artist/32b1d4df0570439277e798f1aac1746c/56x56-000000-80-0-0.jpg', 'picture_medium': 'https://e-cdns-images.dzcdn.net/images/artist/32b1d4df0570439277e798f1aac1746c/250x250-000000-80-0-0.jpg', 'picture_big': 'https://e-cdns-images.dzcdn.net/images/artist/32b1d4df0570439277e798f1aac1746c/500x500-000000-80-0-0.jpg', 'picture_xl': 'https://e-cdns-images.dzcdn.net/images/artist/32b1d4df0570439277e798f1aac1746c/1000x1000-000000-80-0-0.jpg', 'radio': True, 'tracklist': 'https://api.deezer.com/artist/9172904/top?limit=50', 'type': 'artist'}, 'album': {'id': 463574485, 'title': 'Seven (feat. Latto)', 'cover': 'https://api.deezer.com/album/463574485/image', 'cover_small': 'https://e-cdns-images.dzcdn.net/images/cover/d1ddbc901bf7d7b43187fac1b1e6714e/56x56-000000-80-0-0.jpg', 'cover_medium': 'https://e-cdns-images.dzcdn.net/images/cover/d1ddbc901bf7d7b43187fac1b1e6714e/250x250-000000-80-0-0.jpg', 'cover_big': 'https://e-cdns-images.dzcdn.net/images/cover/d1ddbc901bf7d7b43187fac1b1e6714e/500x500-000000-80-0-0.jpg', 'cover_xl': 'https://e-cdns-images.dzcdn.net/images/cover/d1ddbc901bf7d7b43187fac1b1e6714e/1000x1000-000000-80-0-0.jpg', 'md5_image': 'd1ddbc901bf7d7b43187fac1b1e6714e', 'tracklist': 'https://api.deezer.com/album/463574485/tracks', 'type': 'album'}, 'type': 'track'}, {'id': 1522831532, 'title': 'otherside', 'title_short': 'otherside', 'title_version': '', 'link': 'https://www.deezer.com/track/1522831532', 'duration': 195, 'rank': 470276, 'explicit_lyrics': False, 'explicit_content_lyrics': 0, 'explicit_content_cover': 0, 'preview': 'https://cdnt-preview.dzcdn.net/api/1/1/b/4/9/0/b49a449b002a6b6b6495fe7e752a3129.mp3?hdnea=exp=1728819468~acl=/api/1/1/b/4/9/0/b49a449b002a6b6b6495fe7e752a3129.mp3*~data=user_id=0,application_id=42~hmac=59a64d763a4de5c5cf4ecd220ec7db10f52ba097e609ec89a8fddc01f29fc98a', 'md5_image': '85d04e349efbc5e8a45345dac2f5c52a', 'position': 9, 'artist': {'id': 14141161, 'name': 'Lena Raine', 'link': 'https://www.deezer.com/artist/14141161', 'picture': 'https://api.deezer.com/artist/14141161/image', 'picture_small': 'https://e-cdns-images.dzcdn.net/images/artist/6a6f796e85b19b48a20160e879181b4c/56x56-000000-80-0-0.jpg', 'picture_medium': 'https://e-cdns-images.dzcdn.net/images/artist/6a6f796e85b19b48a20160e879181b4c/250x250-000000-80-0-0.jpg', 'picture_big': 'https://e-cdns-images.dzcdn.net/images/artist/6a6f796e85b19b48a20160e879181b4c/500x500-000000-80-0-0.jpg', 'picture_xl': 'https://e-cdns-images.dzcdn.net/images/artist/6a6f796e85b19b48a20160e879181b4c/1000x1000-000000-80-0-0.jpg', 'radio': True, 'tracklist': 'https://api.deezer.com/artist/14141161/top?limit=50', 'type': 'artist'}, 'album': {'id': 265800432, 'title': 'Minecraft: Caves & Cliffs (Original Game Soundtrack)', 'cover': 'https://api.deezer.com/album/265800432/image', 'cover_small': 'https://e-cdns-images.dzcdn.net/images/cover/85d04e349efbc5e8a45345dac2f5c52a/56x56-000000-80-0-0.jpg', 'cover_medium': 'https://e-cdns-images.dzcdn.net/images/cover/85d04e349efbc5e8a45345dac2f5c52a/250x250-000000-80-0-0.jpg', 'cover_big': 'https://e-cdns-images.dzcdn.net/images/cover/85d04e349efbc5e8a45345dac2f5c52a/500x500-000000-80-0-0.jpg', 'cover_xl': 'https://e-cdns-images.dzcdn.net/images/cover/85d04e349efbc5e8a45345dac2f5c52a/1000x1000-000000-80-0-0.jpg', 'md5_image': '85d04e349efbc5e8a45345dac2f5c52a', 'tracklist': 'https://api.deezer.com/album/265800432/tracks', 'type': 'album'}, 'type': 'track'}, {'id': 1522223672, 'title': 'Easy On Me', 'title_short': 'Easy On Me', 'title_version': '', 'link': 'https://www.deezer.com/track/1522223672', 'duration': 224, 'rank': 965885, 'explicit_lyrics': False, 'explicit_content_lyrics': 0, 'explicit_content_cover': 0, 'preview': 'https://cdnt-preview.dzcdn.net/api/1/1/b/d/0/0/bd0cab61ff8ce6402747fe852fc37815.mp3?hdnea=exp=1728819468~acl=/api/1/1/b/d/0/0/bd0cab61ff8ce6402747fe852fc37815.mp3*~data=user_id=0,application_id=42~hmac=d66fd09b759908c068356eae1916f22798bdde6a2feb7f2c46a52f288c9a5f6a', 'md5_image': 'a87ee7c212c7b0f9ae687c378f260324', 'position': 10, 'artist': {'id': 75798, 'name': 'Adele', 'link': 'https://www.deezer.com/artist/75798', 'picture': 'https://api.deezer.com/artist/75798/image', 'picture_small': 'https://e-cdns-images.dzcdn.net/images/artist/e5fc443d2abc03b487234ba4de65a001/56x56-000000-80-0-0.jpg', 'picture_medium': 'https://e-cdns-images.dzcdn.net/images/artist/e5fc443d2abc03b487234ba4de65a001/250x250-000000-80-0-0.jpg', 'picture_big': 'https://e-cdns-images.dzcdn.net/images/artist/e5fc443d2abc03b487234ba4de65a001/500x500-000000-80-0-0.jpg', 'picture_xl': 'https://e-cdns-images.dzcdn.net/images/artist/e5fc443d2abc03b487234ba4de65a001/1000x1000-000000-80-0-0.jpg', 'radio': True, 'tracklist': 'https://api.deezer.com/artist/75798/top?limit=50', 'type': 'artist'}, 'album': {'id': 265655342, 'title': 'Easy On Me', 'cover': 'https://api.deezer.com/album/265655342/image', 'cover_small': 'https://e-cdns-images.dzcdn.net/images/cover/a87ee7c212c7b0f9ae687c378f260324/56x56-000000-80-0-0.jpg', 'cover_medium': 'https://e-cdns-images.dzcdn.net/images/cover/a87ee7c212c7b0f9ae687c378f260324/250x250-000000-80-0-0.jpg', 'cover_big': 'https://e-cdns-images.dzcdn.net/images/cover/a87ee7c212c7b0f9ae687c378f260324/500x500-000000-80-0-0.jpg', 'cover_xl': 'https://e-cdns-images.dzcdn.net/images/cover/a87ee7c212c7b0f9ae687c378f260324/1000x1000-000000-80-0-0.jpg', 'md5_image': 'a87ee7c212c7b0f9ae687c378f260324', 'tracklist': 'https://api.deezer.com/album/265655342/tracks', 'type': 'album'}, 'type': 'track'}], 'total': 10}\n",
      "Pedro Raffaella Carrà\n"
     ]
    }
   ],
   "source": [
    "import requests\n",
    "\n",
    "url = \"https://api.deezer.com/chart/0/tracks?index=0\"\n",
    "response = requests.get(url)\n",
    "\n",
    "query_song = \"\"\n",
    "\n",
    "if response.status_code == 200:\n",
    "    data = response.json()\n",
    "    print(data)\n",
    "    top_tracks = data[\"data\"][0]\n",
    "    query_song = top_tracks[\"title\"] + \" \" + top_tracks[\"artist\"][\"name\"]\n",
    "    \n",
    "    print(query_song)\n",
    "else:\n",
    "    print(\"Error:\", response.status_code)"
   ]
  },
  {
   "cell_type": "code",
   "execution_count": 2,
   "metadata": {},
   "outputs": [
    {
     "name": "stdout",
     "output_type": "stream",
     "text": [
      "Requirement already satisfied: selenium in c:\\users\\alfin\\appdata\\local\\programs\\python\\python311\\lib\\site-packages (4.25.0)\n",
      "Requirement already satisfied: webdriver_manager in c:\\users\\alfin\\appdata\\local\\programs\\python\\python311\\lib\\site-packages (4.0.2)\n",
      "Requirement already satisfied: pyperclip in c:\\users\\alfin\\appdata\\local\\programs\\python\\python311\\lib\\site-packages (1.9.0)\n",
      "Requirement already satisfied: urllib3[socks]<3,>=1.26 in c:\\users\\alfin\\appdata\\local\\programs\\python\\python311\\lib\\site-packages (from selenium) (2.2.3)\n",
      "Requirement already satisfied: trio~=0.17 in c:\\users\\alfin\\appdata\\local\\programs\\python\\python311\\lib\\site-packages (from selenium) (0.26.2)\n",
      "Requirement already satisfied: trio-websocket~=0.9 in c:\\users\\alfin\\appdata\\local\\programs\\python\\python311\\lib\\site-packages (from selenium) (0.11.1)\n",
      "Requirement already satisfied: certifi>=2021.10.8 in c:\\users\\alfin\\appdata\\roaming\\python\\python311\\site-packages (from selenium) (2023.5.7)\n",
      "Requirement already satisfied: typing_extensions~=4.9 in c:\\users\\alfin\\appdata\\roaming\\python\\python311\\site-packages (from selenium) (4.12.2)\n",
      "Requirement already satisfied: websocket-client~=1.8 in c:\\users\\alfin\\appdata\\local\\programs\\python\\python311\\lib\\site-packages (from selenium) (1.8.0)\n",
      "Requirement already satisfied: requests in c:\\users\\alfin\\appdata\\local\\programs\\python\\python311\\lib\\site-packages (from webdriver_manager) (2.32.3)\n",
      "Requirement already satisfied: python-dotenv in c:\\users\\alfin\\appdata\\local\\programs\\python\\python311\\lib\\site-packages (from webdriver_manager) (1.0.1)\n",
      "Requirement already satisfied: packaging in c:\\users\\alfin\\appdata\\roaming\\python\\python311\\site-packages (from webdriver_manager) (24.1)\n",
      "Requirement already satisfied: attrs>=23.2.0 in c:\\users\\alfin\\appdata\\local\\programs\\python\\python311\\lib\\site-packages (from trio~=0.17->selenium) (24.2.0)\n",
      "Requirement already satisfied: sortedcontainers in c:\\users\\alfin\\appdata\\local\\programs\\python\\python311\\lib\\site-packages (from trio~=0.17->selenium) (2.4.0)\n",
      "Requirement already satisfied: idna in c:\\users\\alfin\\appdata\\roaming\\python\\python311\\site-packages (from trio~=0.17->selenium) (3.4)\n",
      "Requirement already satisfied: outcome in c:\\users\\alfin\\appdata\\local\\programs\\python\\python311\\lib\\site-packages (from trio~=0.17->selenium) (1.3.0.post0)\n",
      "Requirement already satisfied: sniffio>=1.3.0 in c:\\users\\alfin\\appdata\\local\\programs\\python\\python311\\lib\\site-packages (from trio~=0.17->selenium) (1.3.1)\n",
      "Requirement already satisfied: cffi>=1.14 in c:\\users\\alfin\\appdata\\local\\programs\\python\\python311\\lib\\site-packages (from trio~=0.17->selenium) (1.17.1)\n",
      "Requirement already satisfied: wsproto>=0.14 in c:\\users\\alfin\\appdata\\local\\programs\\python\\python311\\lib\\site-packages (from trio-websocket~=0.9->selenium) (1.2.0)\n",
      "Requirement already satisfied: pysocks!=1.5.7,<2.0,>=1.5.6 in c:\\users\\alfin\\appdata\\local\\programs\\python\\python311\\lib\\site-packages (from urllib3[socks]<3,>=1.26->selenium) (1.7.1)\n",
      "Requirement already satisfied: charset-normalizer<4,>=2 in c:\\users\\alfin\\appdata\\roaming\\python\\python311\\site-packages (from requests->webdriver_manager) (2.0.12)\n",
      "Requirement already satisfied: pycparser in c:\\users\\alfin\\appdata\\local\\programs\\python\\python311\\lib\\site-packages (from cffi>=1.14->trio~=0.17->selenium) (2.22)\n",
      "Requirement already satisfied: h11<1,>=0.9.0 in c:\\users\\alfin\\appdata\\local\\programs\\python\\python311\\lib\\site-packages (from wsproto>=0.14->trio-websocket~=0.9->selenium) (0.14.0)\n",
      "Note: you may need to restart the kernel to use updated packages.\n"
     ]
    },
    {
     "name": "stderr",
     "output_type": "stream",
     "text": [
      "\n",
      "[notice] A new release of pip is available: 23.1.2 -> 24.2\n",
      "[notice] To update, run: python.exe -m pip install --upgrade pip\n"
     ]
    }
   ],
   "source": [
    "# Install selenium\n",
    "%pip install selenium webdriver_manager pyperclip"
   ]
  },
  {
   "cell_type": "code",
   "execution_count": 3,
   "metadata": {},
   "outputs": [
    {
     "name": "stdout",
     "output_type": "stream",
     "text": [
      "https://music.youtube.com/watch?v=iMZOrEbS7cU\n",
      "URL copied to clipboard\n"
     ]
    }
   ],
   "source": [
    "from selenium import webdriver\n",
    "from selenium.webdriver.chrome.service import Service as ChromeService\n",
    "from selenium.webdriver.chrome.options import Options\n",
    "from selenium.webdriver.common.by import By\n",
    "from webdriver_manager.chrome import ChromeDriverManager\n",
    "import pyperclip\n",
    "\n",
    "options = Options()\n",
    "options.add_argument('--headless')\n",
    "options.add_argument('--no-sandbox')\n",
    "options.add_argument('--disable-dev-shm-usage')\n",
    "options.add_argument(\"user-agent=Mozilla/5.0 (Windows NT 10.0; Win64; x64) AppleWebKit/537.36 (KHTML, like Gecko) Chrome/92.0.4515.159 Safari/537.36\")\n",
    "options.add_argument(\"--disable-blink-features=AutomationControlled\")\n",
    "options.add_experimental_option(\"excludeSwitches\", [\"enable-automation\"])\n",
    "options.add_experimental_option('useAutomationExtension', False)\n",
    "\n",
    "service = ChromeService(ChromeDriverManager().install())\n",
    "driver = webdriver.Chrome(service=service, options=options)\n",
    "\n",
    "try:\n",
    "    # query_song = \"NSYNC Bye Bye Bye\"\n",
    "    url = \"https://music.youtube.com/search?q=\" + query_song\n",
    "    # Open a webpage\n",
    "    driver.get(url)\n",
    "\n",
    "    html_source = driver.page_source\n",
    "\n",
    "    # Locate the element containing the dynamic href attribute\n",
    "    element = driver.find_element(By.XPATH, '//a[contains(@href, \"watch?v=\")]')\n",
    "\n",
    "    # Extract the href attribute value\n",
    "    href_value = element.get_attribute('href')\n",
    "\n",
    "    print(href_value)\n",
    "    pyperclip.copy(href_value)\n",
    "    print(\"URL copied to clipboard\")\n",
    "except Exception as e:\n",
    "    print(f\"An error occurred: {e}\")\n",
    "    raise e\n",
    "finally:\n",
    "    # Close the browser\n",
    "    driver.quit()"
   ]
  }
 ],
 "metadata": {
  "kernelspec": {
   "display_name": "Python 3",
   "language": "python",
   "name": "python3"
  },
  "language_info": {
   "codemirror_mode": {
    "name": "ipython",
    "version": 3
   },
   "file_extension": ".py",
   "mimetype": "text/x-python",
   "name": "python",
   "nbconvert_exporter": "python",
   "pygments_lexer": "ipython3",
   "version": "3.11.3"
  }
 },
 "nbformat": 4,
 "nbformat_minor": 2
}
