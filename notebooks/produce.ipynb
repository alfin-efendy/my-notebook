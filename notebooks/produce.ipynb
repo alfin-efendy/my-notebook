{
 "cells": [
  {
   "cell_type": "markdown",
   "metadata": {
    "id": "ulY6dRhEIf4i"
   },
   "source": [
    "# Download The Song From Internet"
   ]
  },
  {
   "cell_type": "code",
   "execution_count": 1,
   "metadata": {
    "colab": {
     "base_uri": "https://localhost:8080/"
    },
    "id": "Ulc4Y4L1qyfb",
    "outputId": "cc5a66f3-e2b1-4497-e154-3e364cf654a5"
   },
   "outputs": [
    {
     "name": "stdout",
     "output_type": "stream",
     "text": [
      "Requirement already satisfied: yt_dlp in /opt/conda/lib/python3.11/site-packages (2024.10.7)\n",
      "Requirement already satisfied: brotli in /opt/conda/lib/python3.11/site-packages (from yt_dlp) (1.1.0)\n",
      "Requirement already satisfied: certifi in /opt/conda/lib/python3.11/site-packages (from yt_dlp) (2023.7.22)\n",
      "Requirement already satisfied: mutagen in /opt/conda/lib/python3.11/site-packages (from yt_dlp) (1.47.0)\n",
      "Requirement already satisfied: pycryptodomex in /opt/conda/lib/python3.11/site-packages (from yt_dlp) (3.21.0)\n",
      "Requirement already satisfied: requests<3,>=2.32.2 in /opt/conda/lib/python3.11/site-packages (from yt_dlp) (2.32.3)\n",
      "Requirement already satisfied: urllib3<3,>=1.26.17 in /opt/conda/lib/python3.11/site-packages (from yt_dlp) (2.0.7)\n",
      "Requirement already satisfied: websockets>=13.0 in /opt/conda/lib/python3.11/site-packages (from yt_dlp) (13.1)\n",
      "Requirement already satisfied: charset-normalizer<4,>=2 in /opt/conda/lib/python3.11/site-packages (from requests<3,>=2.32.2->yt_dlp) (3.3.0)\n",
      "Requirement already satisfied: idna<4,>=2.5 in /opt/conda/lib/python3.11/site-packages (from requests<3,>=2.32.2->yt_dlp) (3.4)\n",
      "Note: you may need to restart the kernel to use updated packages.\n"
     ]
    }
   ],
   "source": [
    "%pip install yt_dlp"
   ]
  },
  {
   "cell_type": "code",
   "execution_count": 2,
   "metadata": {
    "colab": {
     "base_uri": "https://localhost:8080/"
    },
    "id": "EskFzx6XqCFH",
    "outputId": "a931757d-89a2-468d-e2b1-385be814da80"
   },
   "outputs": [
    {
     "name": "stdout",
     "output_type": "stream",
     "text": [
      "[youtube] Extracting URL: https://music.youtube.com/watch?v=fxHjlCBHuzA\n",
      "[youtube] fxHjlCBHuzA: Downloading webpage\n",
      "[youtube] fxHjlCBHuzA: Downloading ios player API JSON\n",
      "[youtube] fxHjlCBHuzA: Downloading mweb player API JSON\n",
      "[youtube] fxHjlCBHuzA: Downloading ios music player API JSON\n",
      "[youtube] fxHjlCBHuzA: Downloading m3u8 information\n",
      "[youtube] fxHjlCBHuzA: Downloading m3u8 information\n",
      "[info] fxHjlCBHuzA: Downloading 1 format(s): 251\n",
      "[download] Destination: music.webm\n",
      "[download] 100% of    3.09MiB in 00:00:00 at 6.87MiB/s   \n",
      "[ExtractAudio] Destination: music.mp3\n",
      "Deleting original file music.webm (pass -k to keep)\n"
     ]
    }
   ],
   "source": [
    "import os\n",
    "import yt_dlp\n",
    "import shutil\n",
    "\n",
    "ydl_opts = {\n",
    "    'format': 'bestaudio/best',\n",
    "    'postprocessors': [{\n",
    "        'key': 'FFmpegExtractAudio',\n",
    "        'preferredcodec': 'mp3',\n",
    "        'preferredquality': '192',\n",
    "    }],\n",
    "    'outtmpl': 'music.%(ext)s'\n",
    "}\n",
    "\n",
    "url = 'https://music.youtube.com/watch?v=fxHjlCBHuzA'\n",
    "\n",
    "base_path = os.path.join(os.getcwd(), \"data\", \"results\")\n",
    "\n",
    "try:\n",
    "    with yt_dlp.YoutubeDL(ydl_opts) as ydl:\n",
    "        info = ydl.extract_info(url, download=True)\n",
    "        \n",
    "        # Get the artist and title of the song and delete special characters\n",
    "        artist = info['artist'].replace(\" \", \"_\").replace(\"/\", \"_\")\n",
    "        title = info['title'].replace(\" \", \"_\").replace(\"/\", \"_\")\n",
    "\n",
    "        # Create folder for the song\n",
    "        folder = f\"{artist}/{title}\"\n",
    "        base_path = os.path.join(base_path, folder)\n",
    "        os.makedirs(base_path, exist_ok=True)\n",
    "\n",
    "        # Move the song to the folder\n",
    "        destination_file = os.path.join(base_path, \"music.mp3\")\n",
    "        shutil.move(\"music.mp3\", destination_file)\n",
    "except Exception as e:\n",
    "    print(f\"An error occurred: {e}\")"
   ]
  },
  {
   "cell_type": "markdown",
   "metadata": {
    "id": "rOIBShqRI4zc"
   },
   "source": [
    "# Split The Vocal And Instrument"
   ]
  },
  {
   "cell_type": "code",
   "execution_count": 3,
   "metadata": {
    "colab": {
     "base_uri": "https://localhost:8080/"
    },
    "id": "6LcUm8ZyryD-",
    "outputId": "c556c7bd-b8ce-4345-8565-08e81d7aa3fd"
   },
   "outputs": [
    {
     "name": "stdout",
     "output_type": "stream",
     "text": [
      "Requirement already satisfied: audio-separator in /opt/conda/lib/python3.11/site-packages (0.21.2)\n",
      "Requirement already satisfied: onnxruntime in /opt/conda/lib/python3.11/site-packages (1.19.2)\n",
      "Requirement already satisfied: beartype<0.19.0,>=0.18.5 in /opt/conda/lib/python3.11/site-packages (from audio-separator) (0.18.5)\n",
      "Requirement already satisfied: diffq>=0.2 in /opt/conda/lib/python3.11/site-packages (from audio-separator) (0.2.4)\n",
      "Requirement already satisfied: einops>=0.7 in /opt/conda/lib/python3.11/site-packages (from audio-separator) (0.8.0)\n",
      "Requirement already satisfied: julius>=0.2 in /opt/conda/lib/python3.11/site-packages (from audio-separator) (0.2.7)\n",
      "Requirement already satisfied: librosa>=0.10 in /opt/conda/lib/python3.11/site-packages (from audio-separator) (0.10.2.post1)\n",
      "Requirement already satisfied: ml_collections in /opt/conda/lib/python3.11/site-packages (from audio-separator) (0.1.1)\n",
      "Requirement already satisfied: numpy<2,>=1.23 in /opt/conda/lib/python3.11/site-packages (from audio-separator) (1.24.4)\n",
      "Requirement already satisfied: onnx>=1.14 in /opt/conda/lib/python3.11/site-packages (from audio-separator) (1.17.0)\n",
      "Requirement already satisfied: onnx2torch>=1.5 in /opt/conda/lib/python3.11/site-packages (from audio-separator) (1.5.15)\n",
      "Requirement already satisfied: pydub>=0.25 in /opt/conda/lib/python3.11/site-packages (from audio-separator) (0.25.1)\n",
      "Requirement already satisfied: pyyaml in /opt/conda/lib/python3.11/site-packages (from audio-separator) (6.0.1)\n",
      "Requirement already satisfied: requests>=2 in /opt/conda/lib/python3.11/site-packages (from audio-separator) (2.32.3)\n",
      "Requirement already satisfied: resampy>=0.4 in /opt/conda/lib/python3.11/site-packages (from audio-separator) (0.4.3)\n",
      "Requirement already satisfied: rotary-embedding-torch<0.7.0,>=0.6.1 in /opt/conda/lib/python3.11/site-packages (from audio-separator) (0.6.5)\n",
      "Requirement already satisfied: samplerate==0.1.0 in /opt/conda/lib/python3.11/site-packages (from audio-separator) (0.1.0)\n",
      "Requirement already satisfied: scipy<2.0.0,>=1.13.0 in /opt/conda/lib/python3.11/site-packages (from audio-separator) (1.14.1)\n",
      "Requirement already satisfied: six>=1.16 in /opt/conda/lib/python3.11/site-packages (from audio-separator) (1.16.0)\n",
      "Requirement already satisfied: torch in /opt/conda/lib/python3.11/site-packages (from audio-separator) (2.4.1)\n",
      "Requirement already satisfied: tqdm in /opt/conda/lib/python3.11/site-packages (from audio-separator) (4.66.1)\n",
      "Requirement already satisfied: cffi>=1.0.0 in /opt/conda/lib/python3.11/site-packages (from samplerate==0.1.0->audio-separator) (1.16.0)\n",
      "Requirement already satisfied: coloredlogs in /opt/conda/lib/python3.11/site-packages (from onnxruntime) (15.0.1)\n",
      "Requirement already satisfied: flatbuffers in /opt/conda/lib/python3.11/site-packages (from onnxruntime) (24.3.25)\n",
      "Requirement already satisfied: packaging in /opt/conda/lib/python3.11/site-packages (from onnxruntime) (23.2)\n",
      "Requirement already satisfied: protobuf in /opt/conda/lib/python3.11/site-packages (from onnxruntime) (4.24.3)\n",
      "Requirement already satisfied: sympy in /opt/conda/lib/python3.11/site-packages (from onnxruntime) (1.12)\n",
      "Requirement already satisfied: Cython in /opt/conda/lib/python3.11/site-packages (from diffq>=0.2->audio-separator) (3.0.4)\n",
      "Requirement already satisfied: audioread>=2.1.9 in /opt/conda/lib/python3.11/site-packages (from librosa>=0.10->audio-separator) (3.0.1)\n",
      "Requirement already satisfied: scikit-learn>=0.20.0 in /opt/conda/lib/python3.11/site-packages (from librosa>=0.10->audio-separator) (1.3.1)\n",
      "Requirement already satisfied: joblib>=0.14 in /opt/conda/lib/python3.11/site-packages (from librosa>=0.10->audio-separator) (1.3.2)\n",
      "Requirement already satisfied: decorator>=4.3.0 in /opt/conda/lib/python3.11/site-packages (from librosa>=0.10->audio-separator) (5.1.1)\n",
      "Requirement already satisfied: numba>=0.51.0 in /opt/conda/lib/python3.11/site-packages (from librosa>=0.10->audio-separator) (0.57.1)\n",
      "Requirement already satisfied: soundfile>=0.12.1 in /opt/conda/lib/python3.11/site-packages (from librosa>=0.10->audio-separator) (0.12.1)\n",
      "Requirement already satisfied: pooch>=1.1 in /opt/conda/lib/python3.11/site-packages (from librosa>=0.10->audio-separator) (1.8.2)\n",
      "Requirement already satisfied: soxr>=0.3.2 in /opt/conda/lib/python3.11/site-packages (from librosa>=0.10->audio-separator) (0.5.0.post1)\n",
      "Requirement already satisfied: typing-extensions>=4.1.1 in /opt/conda/lib/python3.11/site-packages (from librosa>=0.10->audio-separator) (4.8.0)\n",
      "Requirement already satisfied: lazy-loader>=0.1 in /opt/conda/lib/python3.11/site-packages (from librosa>=0.10->audio-separator) (0.3)\n",
      "Requirement already satisfied: msgpack>=1.0 in /opt/conda/lib/python3.11/site-packages (from librosa>=0.10->audio-separator) (1.0.6)\n",
      "Requirement already satisfied: torchvision>=0.9.0 in /opt/conda/lib/python3.11/site-packages (from onnx2torch>=1.5->audio-separator) (0.19.1)\n",
      "Requirement already satisfied: charset-normalizer<4,>=2 in /opt/conda/lib/python3.11/site-packages (from requests>=2->audio-separator) (3.3.0)\n",
      "Requirement already satisfied: idna<4,>=2.5 in /opt/conda/lib/python3.11/site-packages (from requests>=2->audio-separator) (3.4)\n",
      "Requirement already satisfied: urllib3<3,>=1.21.1 in /opt/conda/lib/python3.11/site-packages (from requests>=2->audio-separator) (2.0.7)\n",
      "Requirement already satisfied: certifi>=2017.4.17 in /opt/conda/lib/python3.11/site-packages (from requests>=2->audio-separator) (2023.7.22)\n",
      "Requirement already satisfied: filelock in /opt/conda/lib/python3.11/site-packages (from torch->audio-separator) (3.16.1)\n",
      "Requirement already satisfied: networkx in /opt/conda/lib/python3.11/site-packages (from torch->audio-separator) (3.2)\n",
      "Requirement already satisfied: jinja2 in /opt/conda/lib/python3.11/site-packages (from torch->audio-separator) (3.1.2)\n",
      "Requirement already satisfied: fsspec in /opt/conda/lib/python3.11/site-packages (from torch->audio-separator) (2023.9.2)\n",
      "Requirement already satisfied: nvidia-cuda-nvrtc-cu12==12.1.105 in /opt/conda/lib/python3.11/site-packages (from torch->audio-separator) (12.1.105)\n",
      "Requirement already satisfied: nvidia-cuda-runtime-cu12==12.1.105 in /opt/conda/lib/python3.11/site-packages (from torch->audio-separator) (12.1.105)\n",
      "Requirement already satisfied: nvidia-cuda-cupti-cu12==12.1.105 in /opt/conda/lib/python3.11/site-packages (from torch->audio-separator) (12.1.105)\n",
      "Requirement already satisfied: nvidia-cudnn-cu12==9.1.0.70 in /opt/conda/lib/python3.11/site-packages (from torch->audio-separator) (9.1.0.70)\n",
      "Requirement already satisfied: nvidia-cublas-cu12==12.1.3.1 in /opt/conda/lib/python3.11/site-packages (from torch->audio-separator) (12.1.3.1)\n",
      "Requirement already satisfied: nvidia-cufft-cu12==11.0.2.54 in /opt/conda/lib/python3.11/site-packages (from torch->audio-separator) (11.0.2.54)\n",
      "Requirement already satisfied: nvidia-curand-cu12==10.3.2.106 in /opt/conda/lib/python3.11/site-packages (from torch->audio-separator) (10.3.2.106)\n",
      "Requirement already satisfied: nvidia-cusolver-cu12==11.4.5.107 in /opt/conda/lib/python3.11/site-packages (from torch->audio-separator) (11.4.5.107)\n",
      "Requirement already satisfied: nvidia-cusparse-cu12==12.1.0.106 in /opt/conda/lib/python3.11/site-packages (from torch->audio-separator) (12.1.0.106)\n",
      "Requirement already satisfied: nvidia-nccl-cu12==2.20.5 in /opt/conda/lib/python3.11/site-packages (from torch->audio-separator) (2.20.5)\n",
      "Requirement already satisfied: nvidia-nvtx-cu12==12.1.105 in /opt/conda/lib/python3.11/site-packages (from torch->audio-separator) (12.1.105)\n",
      "Requirement already satisfied: triton==3.0.0 in /opt/conda/lib/python3.11/site-packages (from torch->audio-separator) (3.0.0)\n",
      "Requirement already satisfied: nvidia-nvjitlink-cu12 in /opt/conda/lib/python3.11/site-packages (from nvidia-cusolver-cu12==11.4.5.107->torch->audio-separator) (12.6.77)\n",
      "Requirement already satisfied: humanfriendly>=9.1 in /opt/conda/lib/python3.11/site-packages (from coloredlogs->onnxruntime) (10.0)\n",
      "Requirement already satisfied: absl-py in /opt/conda/lib/python3.11/site-packages (from ml_collections->audio-separator) (2.1.0)\n",
      "Requirement already satisfied: contextlib2 in /opt/conda/lib/python3.11/site-packages (from ml_collections->audio-separator) (21.6.0)\n",
      "Requirement already satisfied: mpmath>=0.19 in /opt/conda/lib/python3.11/site-packages (from sympy->onnxruntime) (1.3.0)\n",
      "Requirement already satisfied: pycparser in /opt/conda/lib/python3.11/site-packages (from cffi>=1.0.0->samplerate==0.1.0->audio-separator) (2.21)\n",
      "Requirement already satisfied: llvmlite<0.41,>=0.40.0dev0 in /opt/conda/lib/python3.11/site-packages (from numba>=0.51.0->librosa>=0.10->audio-separator) (0.40.1)\n",
      "Requirement already satisfied: platformdirs>=2.5.0 in /opt/conda/lib/python3.11/site-packages (from pooch>=1.1->librosa>=0.10->audio-separator) (3.11.0)\n",
      "Requirement already satisfied: threadpoolctl>=2.0.0 in /opt/conda/lib/python3.11/site-packages (from scikit-learn>=0.20.0->librosa>=0.10->audio-separator) (3.2.0)\n",
      "Requirement already satisfied: pillow!=8.3.*,>=5.3.0 in /opt/conda/lib/python3.11/site-packages (from torchvision>=0.9.0->onnx2torch>=1.5->audio-separator) (10.1.0)\n",
      "Requirement already satisfied: MarkupSafe>=2.0 in /opt/conda/lib/python3.11/site-packages (from jinja2->torch->audio-separator) (2.1.3)\n",
      "Note: you may need to restart the kernel to use updated packages.\n"
     ]
    }
   ],
   "source": [
    "%pip install audio-separator onnxruntime"
   ]
  },
  {
   "cell_type": "code",
   "execution_count": 4,
   "metadata": {
    "colab": {
     "base_uri": "https://localhost:8080/"
    },
    "id": "iK4ETZd7sGvL",
    "outputId": "a4835eb2-9672-4882-8f46-51981650ba7a"
   },
   "outputs": [
    {
     "name": "stderr",
     "output_type": "stream",
     "text": [
      "2024-10-12 06:06:51,991 - INFO - separator - Separator version 0.21.2 instantiating with output_dir: None, output_format: WAV\n",
      "2024-10-12 06:06:51,992 - INFO - separator - Output directory not specified. Using current working directory.\n",
      "2024-10-12 06:06:51,993 - INFO - separator - Operating System: Linux #1 SMP Fri Mar 29 23:14:13 UTC 2024\n",
      "2024-10-12 06:06:51,994 - INFO - separator - System: Linux Node: 897ca6eb00c4 Release: 5.15.153.1-microsoft-standard-WSL2 Machine: x86_64 Proc: x86_64\n",
      "2024-10-12 06:06:51,994 - INFO - separator - Python Version: 3.11.6\n",
      "2024-10-12 06:06:51,995 - INFO - separator - PyTorch Version: 2.4.1+cu121\n",
      "2024-10-12 06:06:52,035 - INFO - separator - FFmpeg installed: ffmpeg version 4.4.2-0ubuntu0.22.04.1 Copyright (c) 2000-2021 the FFmpeg developers\n",
      "2024-10-12 06:06:52,038 - INFO - separator - ONNX Runtime CPU package installed with version: 1.19.2\n",
      "2024-10-12 06:06:52,041 - INFO - separator - No hardware acceleration could be configured, running in CPU mode\n",
      "2024-10-12 06:06:52,041 - INFO - separator - Loading model model_mel_band_roformer_ep_3005_sdr_11.4360.ckpt...\n",
      "2024-10-12 06:06:58,474 - INFO - mdxc_separator - MDXC Separator initialisation complete\n",
      "2024-10-12 06:06:58,475 - INFO - separator - Load model duration: 00:00:06\n",
      "2024-10-12 06:06:58,476 - INFO - separator - Starting separation process for audio_file_path: /home/jovyan/data/results/*NSYNC/Bye_Bye_Bye_-_From_Deadpool_and_Wolverine_Soundtrack/music.mp3\n",
      "100%|██████████| 26/26 [16:16<00:00, 37.55s/it]\n",
      "2024-10-12 06:23:18,104 - INFO - mdxc_separator - Saving Instrumental stem to music_(Instrumental)_model_mel_band_roformer_ep_3005_sdr_11.wav...\n",
      "2024-10-12 06:23:19,185 - INFO - common_separator - Audio duration is 0.06 hours (200.40 seconds).\n",
      "2024-10-12 06:23:19,186 - INFO - common_separator - Using pydub for writing.\n",
      "2024-10-12 06:23:19,288 - INFO - mdxc_separator - Saving Vocals stem to music_(Vocals)_model_mel_band_roformer_ep_3005_sdr_11.wav...\n",
      "2024-10-12 06:23:19,329 - INFO - common_separator - Audio duration is 0.06 hours (200.40 seconds).\n",
      "2024-10-12 06:23:19,330 - INFO - common_separator - Using pydub for writing.\n",
      "2024-10-12 06:23:20,459 - INFO - common_separator - Clearing input audio file paths, sources and stems...\n",
      "2024-10-12 06:23:20,461 - INFO - separator - Separation duration: 00:16:22\n"
     ]
    },
    {
     "data": {
      "text/plain": [
       "'/home/jovyan/data/results/*NSYNC/Bye_Bye_Bye_-_From_Deadpool_and_Wolverine_Soundtrack/vocal.wav'"
      ]
     },
     "execution_count": 4,
     "metadata": {},
     "output_type": "execute_result"
    }
   ],
   "source": [
    "from audio_separator.separator import Separator\n",
    "\n",
    "# Initialize the Separator class (with optional configuration properties, below)\n",
    "separator = Separator()\n",
    "\n",
    "# Load a machine learning model (if unspecified, defaults to 'model_mel_band_roformer_ep_3005_sdr_11.4360.ckpt')\n",
    "separator.load_model()\n",
    "\n",
    "# Define the path to the audio file\n",
    "music_path = os.path.join(base_path, 'music.mp3')\n",
    "\n",
    "# Perform the separation on specific audio files without reloading the model\n",
    "output_files = separator.separate(music_path)\n",
    "\n",
    "# Rename the output files\n",
    "os.rename(output_files[0], 'instrumental.wav')\n",
    "os.rename(output_files[1], 'vocal.wav')\n",
    "\n",
    "# Move the output files to the folderL\n",
    "shutil.move('instrumental.wav', f\"{base_path}/instrumental.wav\")\n",
    "shutil.move('vocal.wav', f\"{base_path}/vocal.wav\")"
   ]
  },
  {
   "cell_type": "markdown",
   "metadata": {
    "id": "6XX-YmbiJHWC"
   },
   "source": [
    "# Generate Subtitle From Vocal Audio"
   ]
  },
  {
   "cell_type": "code",
   "execution_count": 5,
   "metadata": {
    "colab": {
     "base_uri": "https://localhost:8080/"
    },
    "id": "5fwF6Ja8tdTi",
    "outputId": "c7ea0278-bf96-414d-ca6f-2ef24db4f20c"
   },
   "outputs": [
    {
     "name": "stdout",
     "output_type": "stream",
     "text": [
      "Requirement already satisfied: whisper in /opt/conda/lib/python3.11/site-packages (1.1.10)\n",
      "Requirement already satisfied: openai-whisper in /opt/conda/lib/python3.11/site-packages (20240930)\n",
      "Requirement already satisfied: six in /opt/conda/lib/python3.11/site-packages (from whisper) (1.16.0)\n",
      "Requirement already satisfied: numba in /opt/conda/lib/python3.11/site-packages (from openai-whisper) (0.57.1)\n",
      "Requirement already satisfied: numpy in /opt/conda/lib/python3.11/site-packages (from openai-whisper) (1.24.4)\n",
      "Requirement already satisfied: torch in /opt/conda/lib/python3.11/site-packages (from openai-whisper) (2.4.1)\n",
      "Requirement already satisfied: tqdm in /opt/conda/lib/python3.11/site-packages (from openai-whisper) (4.66.1)\n",
      "Requirement already satisfied: more-itertools in /opt/conda/lib/python3.11/site-packages (from openai-whisper) (10.5.0)\n",
      "Requirement already satisfied: tiktoken in /opt/conda/lib/python3.11/site-packages (from openai-whisper) (0.8.0)\n",
      "Requirement already satisfied: triton>=2.0.0 in /opt/conda/lib/python3.11/site-packages (from openai-whisper) (3.0.0)\n",
      "Requirement already satisfied: filelock in /opt/conda/lib/python3.11/site-packages (from triton>=2.0.0->openai-whisper) (3.16.1)\n",
      "Requirement already satisfied: llvmlite<0.41,>=0.40.0dev0 in /opt/conda/lib/python3.11/site-packages (from numba->openai-whisper) (0.40.1)\n",
      "Requirement already satisfied: regex>=2022.1.18 in /opt/conda/lib/python3.11/site-packages (from tiktoken->openai-whisper) (2024.9.11)\n",
      "Requirement already satisfied: requests>=2.26.0 in /opt/conda/lib/python3.11/site-packages (from tiktoken->openai-whisper) (2.32.3)\n",
      "Requirement already satisfied: typing-extensions>=4.8.0 in /opt/conda/lib/python3.11/site-packages (from torch->openai-whisper) (4.8.0)\n",
      "Requirement already satisfied: sympy in /opt/conda/lib/python3.11/site-packages (from torch->openai-whisper) (1.12)\n",
      "Requirement already satisfied: networkx in /opt/conda/lib/python3.11/site-packages (from torch->openai-whisper) (3.2)\n",
      "Requirement already satisfied: jinja2 in /opt/conda/lib/python3.11/site-packages (from torch->openai-whisper) (3.1.2)\n",
      "Requirement already satisfied: fsspec in /opt/conda/lib/python3.11/site-packages (from torch->openai-whisper) (2023.9.2)\n",
      "Requirement already satisfied: nvidia-cuda-nvrtc-cu12==12.1.105 in /opt/conda/lib/python3.11/site-packages (from torch->openai-whisper) (12.1.105)\n",
      "Requirement already satisfied: nvidia-cuda-runtime-cu12==12.1.105 in /opt/conda/lib/python3.11/site-packages (from torch->openai-whisper) (12.1.105)\n",
      "Requirement already satisfied: nvidia-cuda-cupti-cu12==12.1.105 in /opt/conda/lib/python3.11/site-packages (from torch->openai-whisper) (12.1.105)\n",
      "Requirement already satisfied: nvidia-cudnn-cu12==9.1.0.70 in /opt/conda/lib/python3.11/site-packages (from torch->openai-whisper) (9.1.0.70)\n",
      "Requirement already satisfied: nvidia-cublas-cu12==12.1.3.1 in /opt/conda/lib/python3.11/site-packages (from torch->openai-whisper) (12.1.3.1)\n",
      "Requirement already satisfied: nvidia-cufft-cu12==11.0.2.54 in /opt/conda/lib/python3.11/site-packages (from torch->openai-whisper) (11.0.2.54)\n",
      "Requirement already satisfied: nvidia-curand-cu12==10.3.2.106 in /opt/conda/lib/python3.11/site-packages (from torch->openai-whisper) (10.3.2.106)\n",
      "Requirement already satisfied: nvidia-cusolver-cu12==11.4.5.107 in /opt/conda/lib/python3.11/site-packages (from torch->openai-whisper) (11.4.5.107)\n",
      "Requirement already satisfied: nvidia-cusparse-cu12==12.1.0.106 in /opt/conda/lib/python3.11/site-packages (from torch->openai-whisper) (12.1.0.106)\n",
      "Requirement already satisfied: nvidia-nccl-cu12==2.20.5 in /opt/conda/lib/python3.11/site-packages (from torch->openai-whisper) (2.20.5)\n",
      "Requirement already satisfied: nvidia-nvtx-cu12==12.1.105 in /opt/conda/lib/python3.11/site-packages (from torch->openai-whisper) (12.1.105)\n",
      "Requirement already satisfied: nvidia-nvjitlink-cu12 in /opt/conda/lib/python3.11/site-packages (from nvidia-cusolver-cu12==11.4.5.107->torch->openai-whisper) (12.6.77)\n",
      "Requirement already satisfied: charset-normalizer<4,>=2 in /opt/conda/lib/python3.11/site-packages (from requests>=2.26.0->tiktoken->openai-whisper) (3.3.0)\n",
      "Requirement already satisfied: idna<4,>=2.5 in /opt/conda/lib/python3.11/site-packages (from requests>=2.26.0->tiktoken->openai-whisper) (3.4)\n",
      "Requirement already satisfied: urllib3<3,>=1.21.1 in /opt/conda/lib/python3.11/site-packages (from requests>=2.26.0->tiktoken->openai-whisper) (2.0.7)\n",
      "Requirement already satisfied: certifi>=2017.4.17 in /opt/conda/lib/python3.11/site-packages (from requests>=2.26.0->tiktoken->openai-whisper) (2023.7.22)\n",
      "Requirement already satisfied: MarkupSafe>=2.0 in /opt/conda/lib/python3.11/site-packages (from jinja2->torch->openai-whisper) (2.1.3)\n",
      "Requirement already satisfied: mpmath>=0.19 in /opt/conda/lib/python3.11/site-packages (from sympy->torch->openai-whisper) (1.3.0)\n",
      "Note: you may need to restart the kernel to use updated packages.\n"
     ]
    },
    {
     "ename": "",
     "evalue": "",
     "output_type": "error",
     "traceback": [
      "\u001b[1;31mThe Kernel crashed while executing code in the current cell or a previous cell. \n",
      "\u001b[1;31mPlease review the code in the cell(s) to identify a possible cause of the failure. \n",
      "\u001b[1;31mClick <a href='https://aka.ms/vscodeJupyterKernelCrash'>here</a> for more info. \n",
      "\u001b[1;31mView Jupyter <a href='command:jupyter.viewOutput'>log</a> for further details."
     ]
    }
   ],
   "source": [
    "%pip install whisper openai-whisper"
   ]
  },
  {
   "cell_type": "code",
   "execution_count": 6,
   "metadata": {
    "colab": {
     "base_uri": "https://localhost:8080/"
    },
    "id": "MXQ-x9WOu_xl",
    "outputId": "8856a7c6-ae32-4168-8c1c-13f1cbca1ab4"
   },
   "outputs": [
    {
     "ename": "",
     "evalue": "",
     "output_type": "error",
     "traceback": [
      "\u001b[1;31mCanceled future for execute_request message before replies were done"
     ]
    },
    {
     "ename": "",
     "evalue": "",
     "output_type": "error",
     "traceback": [
      "\u001b[1;31mCanceled future for execute_request message before replies were done. \n",
      "\u001b[1;31mView Jupyter <a href='command:jupyter.viewOutput'>log</a> for further details."
     ]
    }
   ],
   "source": [
    "import whisper\n",
    "import json\n",
    "\n",
    "# Load the whisper model\n",
    "model = whisper.load_model(\"large\")\n",
    "\n",
    "# Define the path to the vocal audio file\n",
    "vocal_path = os.path.join(base_path, 'vocal.wav')\n",
    "\n",
    "# Transcribe the audio file\n",
    "transcript = model.transcribe(vocal_path, word_timestamps=True)\n",
    "\n",
    "# Save the transcript to a text file\n",
    "wordlevel_info = []\n",
    "\n",
    "for each in transcript['segments']:\n",
    "  words = each['words']\n",
    "  for word in words:\n",
    "    wordlevel_info.append({'word':word['word'].strip(),'start':word['start'],'end':word['end']})\n",
    "\n",
    "# Save the transcript to a json file\n",
    "transcript_path = os.path.join(base_path, 'transcript.json')\n",
    "with open(transcript_path, 'w') as f:\n",
    "    json.dump(wordlevel_info, f,indent=4)"
   ]
  },
  {
   "cell_type": "code",
   "execution_count": 1,
   "metadata": {
    "id": "tJBDnGmRyb-h"
   },
   "outputs": [],
   "source": [
    "def split_text_into_lines(data):\n",
    "    MaxChars = 120\n",
    "    #maxduration in seconds\n",
    "    MaxDuration = 2.0\n",
    "    #Split if nothing is spoken (gap) for these many seconds\n",
    "    MaxGap = 1.0\n",
    "\n",
    "    subtitles = []\n",
    "    line = []\n",
    "    line_duration = 0\n",
    "    line_chars = 0\n",
    "\n",
    "    for idx,word_data in enumerate(data):\n",
    "        word = word_data[\"word\"]\n",
    "        start = word_data[\"start\"]\n",
    "        end = word_data[\"end\"]\n",
    "\n",
    "        line.append(word_data)\n",
    "        line_duration += end - start\n",
    "\n",
    "        temp = \" \".join(item[\"word\"] for item in line)\n",
    "\n",
    "        # Check if adding a new word exceeds the maximum character count or duration\n",
    "        new_line_chars = len(temp)\n",
    "\n",
    "        duration_exceeded = line_duration > MaxDuration\n",
    "        chars_exceeded = new_line_chars > MaxChars\n",
    "        if idx>0:\n",
    "          gap = word_data['start'] - data[idx-1]['end']\n",
    "          # print (word,start,end,gap)\n",
    "          maxgap_exceeded = gap > MaxGap\n",
    "        else:\n",
    "          maxgap_exceeded = False\n",
    "\n",
    "        if duration_exceeded or chars_exceeded or maxgap_exceeded:\n",
    "            if line:\n",
    "                subtitle_line = {\n",
    "                    \"word\": \" \".join(item[\"word\"] for item in line),\n",
    "                    \"start\": line[0][\"start\"],\n",
    "                    \"end\": line[-1][\"end\"],\n",
    "                    \"textcontents\": line\n",
    "                }\n",
    "                subtitles.append(subtitle_line)\n",
    "                line = []\n",
    "                line_duration = 0\n",
    "                line_chars = 0\n",
    "\n",
    "    if line:\n",
    "        subtitle_line = {\n",
    "            \"word\": \" \".join(item[\"word\"] for item in line),\n",
    "            \"start\": line[0][\"start\"],\n",
    "            \"end\": line[-1][\"end\"],\n",
    "            \"textcontents\": line\n",
    "        }\n",
    "        subtitles.append(subtitle_line)\n",
    "\n",
    "    return subtitles"
   ]
  },
  {
   "cell_type": "code",
   "execution_count": 5,
   "metadata": {
    "collapsed": true,
    "id": "Kko20J4byqf6",
    "jupyter": {
     "outputs_hidden": true
    }
   },
   "outputs": [],
   "source": [
    "import json\n",
    "\n",
    "with open(transcript_path, 'r') as f:\n",
    "    wordlevel_info_modified = json.load(f)\n",
    "\n",
    "linelevel_subtitles = split_text_into_lines(wordlevel_info_modified)"
   ]
  },
  {
   "cell_type": "code",
   "execution_count": 7,
   "metadata": {
    "colab": {
     "base_uri": "https://localhost:8080/"
    },
    "collapsed": true,
    "id": "8l6-Kjj-zpoY",
    "jupyter": {
     "outputs_hidden": true
    },
    "outputId": "937b904b-8958-442f-b963-2004fdd996a4"
   },
   "outputs": [],
   "source": [
    "%pip install moviepy imageio\n",
    "\n",
    "%cat /etc/ImageMagick-6/policy.xml | sed 's/none/read,write/g'> /etc/ImageMagick-6/policy.xml"
   ]
  },
  {
   "cell_type": "code",
   "execution_count": 21,
   "metadata": {
    "id": "n5FVdI_hz7KK"
   },
   "outputs": [],
   "source": [
    "from moviepy.editor import TextClip, CompositeVideoClip, ColorClip\n",
    "import numpy as np\n",
    "\n",
    "def create_caption(textJSON, framesize, font=\"Helvetica-Bold\", fontsize=80, color='white', bgcolor='blue'):\n",
    "    wordcount = len(textJSON['textcontents'])\n",
    "    full_duration = textJSON['end'] - textJSON['start']\n",
    "\n",
    "    word_clips = []\n",
    "    xy_textclips_positions = []\n",
    "\n",
    "    frame_width, frame_height = framesize\n",
    "    x_buffer = frame_width * 1/10\n",
    "    y_buffer = frame_height * 1/5\n",
    "\n",
    "    # Calculate total width and height of the text\n",
    "    total_width = 0\n",
    "    total_height = 0\n",
    "    current_line_width = 0\n",
    "    max_line_width = frame_width - 2 * x_buffer\n",
    "    line_height = 0\n",
    "\n",
    "    for wordJSON in textJSON['textcontents']:\n",
    "        word_clip = TextClip(wordJSON['word'], font=font, fontsize=fontsize, color=color)\n",
    "        word_width, word_height = word_clip.size\n",
    "        space_width = TextClip(\" \", font=font, fontsize=fontsize, color=color).w\n",
    "\n",
    "        if current_line_width + word_width + space_width > max_line_width:\n",
    "            total_height += line_height + 40\n",
    "            total_width = max(total_width, current_line_width)\n",
    "            current_line_width = word_width + space_width\n",
    "            line_height = word_height\n",
    "        else:\n",
    "            current_line_width += word_width + space_width\n",
    "            line_height = max(line_height, word_height)\n",
    "\n",
    "    total_height += line_height\n",
    "    total_width = max(total_width, current_line_width)\n",
    "\n",
    "    # Calculate starting position to center the text\n",
    "    start_x = (frame_width - total_width) / 2\n",
    "    start_y = frame_height - total_height - y_buffer\n",
    "\n",
    "    x_pos = start_x\n",
    "    y_pos = start_y\n",
    "\n",
    "    for wordJSON in textJSON['textcontents']:\n",
    "        duration = wordJSON['end'] - wordJSON['start']\n",
    "        word_clip = TextClip(wordJSON['word'], font=font, fontsize=fontsize, color=color, stroke_color='black', stroke_width=2)\n",
    "        word_clip_space = TextClip(\" \", font=font, fontsize=fontsize, color=color)\n",
    "        word_width, word_height = word_clip.size\n",
    "        space_width = word_clip_space.w\n",
    "\n",
    "        if x_pos + word_width + space_width > frame_width - x_buffer:\n",
    "            x_pos = start_x\n",
    "            y_pos += word_height + 40\n",
    "\n",
    "        xy_textclips_positions.append({\n",
    "            \"x_pos\": x_pos,\n",
    "            \"y_pos\": y_pos,\n",
    "            \"width\": word_width,\n",
    "            \"height\": word_height,\n",
    "            \"word\": wordJSON['word'],\n",
    "            \"start\": wordJSON['start'],\n",
    "            \"end\": wordJSON['end'],\n",
    "            \"duration\": duration\n",
    "        })\n",
    "\n",
    "        word_clip = word_clip.set_position((x_pos, y_pos)).set_start(textJSON['start']).set_duration(full_duration)\n",
    "        word_clip_space = word_clip_space.set_position((x_pos + word_width, y_pos)).set_start(textJSON['start']).set_duration(full_duration)\n",
    "\n",
    "        word_clips.append(word_clip)\n",
    "        word_clips.append(word_clip_space)\n",
    "\n",
    "        x_pos += word_width + space_width\n",
    "\n",
    "    for highlight_word in xy_textclips_positions:\n",
    "        word_clip_highlight = TextClip(highlight_word['word'], font=font, fontsize=fontsize, color=color, bg_color=bgcolor, stroke_color='black', stroke_width=2)\n",
    "        word_clip_highlight = word_clip_highlight.set_position((highlight_word['x_pos'], highlight_word['y_pos'])).set_start(highlight_word['start']).set_duration(highlight_word['duration'])\n",
    "        word_clips.append(word_clip_highlight)\n",
    "\n",
    "    return word_clips"
   ]
  },
  {
   "cell_type": "markdown",
   "metadata": {
    "id": "ACuEhYZAJdRm"
   },
   "source": [
    "# Render The Video"
   ]
  },
  {
   "cell_type": "code",
   "execution_count": 14,
   "metadata": {
    "colab": {
     "base_uri": "https://localhost:8080/"
    },
    "id": "hSQr1Gt7Ta_a",
    "outputId": "592a0fa1-882e-4584-9e5f-eaa1b815cdd7"
   },
   "outputs": [],
   "source": [
    "import urllib.request\n",
    "\n",
    "background_url = 'https://wallpapers.com/images/hd/music-color-full-hd-d3s2dz1k58xbndmh.jpg'\n",
    "background_filename = 'background.jpg'\n",
    "\n",
    "urllib.request.urlretrieve(background_url, background_filename)"
   ]
  },
  {
   "cell_type": "code",
   "execution_count": 25,
   "metadata": {
    "colab": {
     "base_uri": "https://localhost:8080/"
    },
    "id": "-JUQyuJx0AjN",
    "outputId": "31ade5fe-c26e-4911-f478-559546f35c0e"
   },
   "outputs": [],
   "source": [
    "from moviepy.editor import CompositeVideoClip, ImageClip, AudioFileClip\n",
    "from moviepy.video.fx.resize import resize\n",
    "\n",
    "frame_size = (1920,1080)\n",
    "\n",
    "all_linelevel_splits=[]\n",
    "\n",
    "for line in linelevel_subtitles:\n",
    "  out = create_caption(line,frame_size)\n",
    "  all_linelevel_splits.extend(out)\n",
    "\n",
    "# Load audio\n",
    "audio = AudioFileClip(\"music.mp3\")\n",
    "\n",
    "# Get the duration of the audio\n",
    "audio_duration = audio.duration\n",
    "\n",
    "image_clip = ImageClip(\"background.jpg\").set_duration(audio_duration)\n",
    "\n",
    "# Resize the image_clip object to fit within a 1980x1080 frame while maintaining its aspect ratio\n",
    "clip_video = resize(image_clip, width=1980, height=1080)\n",
    "\n",
    "final_video = CompositeVideoClip([clip_video] + all_linelevel_splits)\n",
    "\n",
    "# Set the audio of the final video to be the same as the input video\n",
    "final_video = final_video.set_audio(audio)\n",
    "\n",
    "# Save the final clip as a video file with the audio included\n",
    "final_video.write_videofile(\"output.mp4\", fps=24, codec=\"libx264\", audio_codec=\"aac\")"
   ]
  }
 ],
 "metadata": {
  "accelerator": "GPU",
  "colab": {
   "gpuType": "T4",
   "provenance": []
  },
  "kernelspec": {
   "display_name": "Python 3 (ipykernel)",
   "language": "python",
   "name": "python3"
  }
 },
 "nbformat": 4,
 "nbformat_minor": 4
}
