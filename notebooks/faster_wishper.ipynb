{
 "cells": [
  {
   "cell_type": "code",
   "execution_count": 1,
   "metadata": {},
   "outputs": [
    {
     "name": "stdout",
     "output_type": "stream",
     "text": [
      "Requirement already satisfied: faster-whisper in /opt/conda/lib/python3.11/site-packages (1.0.3)\n",
      "Requirement already satisfied: av<13,>=11.0 in /opt/conda/lib/python3.11/site-packages (from faster-whisper) (12.3.0)\n",
      "Requirement already satisfied: ctranslate2<5,>=4.0 in /opt/conda/lib/python3.11/site-packages (from faster-whisper) (4.4.0)\n",
      "Requirement already satisfied: huggingface-hub>=0.13 in /opt/conda/lib/python3.11/site-packages (from faster-whisper) (0.25.2)\n",
      "Requirement already satisfied: tokenizers<1,>=0.13 in /opt/conda/lib/python3.11/site-packages (from faster-whisper) (0.20.1)\n",
      "Requirement already satisfied: onnxruntime<2,>=1.14 in /opt/conda/lib/python3.11/site-packages (from faster-whisper) (1.19.2)\n",
      "Requirement already satisfied: setuptools in /opt/conda/lib/python3.11/site-packages (from ctranslate2<5,>=4.0->faster-whisper) (68.2.2)\n",
      "Requirement already satisfied: numpy in /opt/conda/lib/python3.11/site-packages (from ctranslate2<5,>=4.0->faster-whisper) (1.24.4)\n",
      "Requirement already satisfied: pyyaml<7,>=5.3 in /opt/conda/lib/python3.11/site-packages (from ctranslate2<5,>=4.0->faster-whisper) (6.0.1)\n",
      "Requirement already satisfied: filelock in /opt/conda/lib/python3.11/site-packages (from huggingface-hub>=0.13->faster-whisper) (3.16.1)\n",
      "Requirement already satisfied: fsspec>=2023.5.0 in /opt/conda/lib/python3.11/site-packages (from huggingface-hub>=0.13->faster-whisper) (2023.9.2)\n",
      "Requirement already satisfied: packaging>=20.9 in /opt/conda/lib/python3.11/site-packages (from huggingface-hub>=0.13->faster-whisper) (23.2)\n",
      "Requirement already satisfied: requests in /opt/conda/lib/python3.11/site-packages (from huggingface-hub>=0.13->faster-whisper) (2.32.3)\n",
      "Requirement already satisfied: tqdm>=4.42.1 in /opt/conda/lib/python3.11/site-packages (from huggingface-hub>=0.13->faster-whisper) (4.66.5)\n",
      "Requirement already satisfied: typing-extensions>=3.7.4.3 in /opt/conda/lib/python3.11/site-packages (from huggingface-hub>=0.13->faster-whisper) (4.8.0)\n",
      "Requirement already satisfied: coloredlogs in /opt/conda/lib/python3.11/site-packages (from onnxruntime<2,>=1.14->faster-whisper) (15.0.1)\n",
      "Requirement already satisfied: flatbuffers in /opt/conda/lib/python3.11/site-packages (from onnxruntime<2,>=1.14->faster-whisper) (24.3.25)\n",
      "Requirement already satisfied: protobuf in /opt/conda/lib/python3.11/site-packages (from onnxruntime<2,>=1.14->faster-whisper) (4.24.3)\n",
      "Requirement already satisfied: sympy in /opt/conda/lib/python3.11/site-packages (from onnxruntime<2,>=1.14->faster-whisper) (1.12)\n",
      "Requirement already satisfied: humanfriendly>=9.1 in /opt/conda/lib/python3.11/site-packages (from coloredlogs->onnxruntime<2,>=1.14->faster-whisper) (10.0)\n",
      "Requirement already satisfied: charset-normalizer<4,>=2 in /opt/conda/lib/python3.11/site-packages (from requests->huggingface-hub>=0.13->faster-whisper) (3.3.0)\n",
      "Requirement already satisfied: idna<4,>=2.5 in /opt/conda/lib/python3.11/site-packages (from requests->huggingface-hub>=0.13->faster-whisper) (3.4)\n",
      "Requirement already satisfied: urllib3<3,>=1.21.1 in /opt/conda/lib/python3.11/site-packages (from requests->huggingface-hub>=0.13->faster-whisper) (2.0.7)\n",
      "Requirement already satisfied: certifi>=2017.4.17 in /opt/conda/lib/python3.11/site-packages (from requests->huggingface-hub>=0.13->faster-whisper) (2023.7.22)\n",
      "Requirement already satisfied: mpmath>=0.19 in /opt/conda/lib/python3.11/site-packages (from sympy->onnxruntime<2,>=1.14->faster-whisper) (1.3.0)\n",
      "Note: you may need to restart the kernel to use updated packages.\n"
     ]
    }
   ],
   "source": [
    "%pip install faster-whisper"
   ]
  },
  {
   "cell_type": "code",
   "execution_count": 2,
   "metadata": {},
   "outputs": [],
   "source": [
    "from faster_whisper import WhisperModel\n",
    "\n",
    "def transcribe(audio):\n",
    "    model = WhisperModel(\"turbo\")\n",
    "    segments, info = model.transcribe(audio, word_timestamps=True)\n",
    "    language = info[0]\n",
    "    segments = list(segments)\n",
    "\n",
    "    return language, segments"
   ]
  },
  {
   "cell_type": "code",
   "execution_count": 3,
   "metadata": {},
   "outputs": [],
   "source": [
    "def convert_to_json(data):\n",
    "  json_data = []\n",
    "  for segment in data:\n",
    "      segment_json = {\n",
    "         \"id\": segment.id,\n",
    "          \"start\": segment.start,\n",
    "          \"end\": segment.end,\n",
    "          \"text\": segment.text,\n",
    "          \"words\": [\n",
    "              {\n",
    "                  \"start\": word.start,\n",
    "                  \"end\": word.end,\n",
    "                  \"word\": word.word,\n",
    "              } for word in segment.words\n",
    "          ]\n",
    "      }\n",
    "      json_data.append(segment_json)\n",
    "  return json_data"
   ]
  },
  {
   "cell_type": "code",
   "execution_count": 23,
   "metadata": {},
   "outputs": [
    {
     "name": "stderr",
     "output_type": "stream",
     "text": [
      "[2024-10-12 17:16:28.695] [ctranslate2] [thread 24017] [warning] The compute type inferred from the saved model is float16, but the target device or backend do not support efficient float16 computation. The model weights have been automatically converted to use the float32 compute type instead.\n"
     ]
    },
    {
     "name": "stdout",
     "output_type": "stream",
     "text": [
      "Transcription language en\n",
      "[7.12s -> 9.82s]  Hey, hey, hey.\n",
      "[9.94s -> 18.98s]  Bye, bye, bye, bye, bye, bye, bye, bye, bye, bye, bye, bye, bye, bye, bye, bye.\n",
      "[20.66s -> 25.68s]  Oh, my, oh, my, I'm doing this tonight.\n",
      "[25.68s -> 28.48s]  You're probably gonna start a fight\n",
      "[28.48s -> 31.32s]  I know this can't be right\n",
      "[31.32s -> 34.08s]  Hey baby, come on\n",
      "[34.68s -> 36.54s]  I've loved you endlessly\n",
      "[36.54s -> 39.60s]  And you weren't there for me\n",
      "[39.60s -> 42.44s]  So now it's time to leave\n",
      "[42.44s -> 44.80s]  And make it solo\n",
      "[45.68s -> 48.68s]  I know that I can't take no more\n",
      "[48.68s -> 50.36s]  It ain't no lie\n",
      "[50.36s -> 54.20s]  I wanna see you out that door\n",
      "[54.20s -> 55.68s]  Baby, bye, bye, bye\n",
      "[56.20s -> 58.24s]  Don't wanna be a fool for you\n",
      "[58.24s -> 61.28s]  Just another painter in your game for two\n",
      "[61.28s -> 65.34s]  You may hate me, but it ain't no lie\n",
      "[65.34s -> 66.78s]  Baby, bye, bye, bye\n",
      "[66.78s -> 69.34s]  Don't really wanna make it tough\n",
      "[69.34s -> 72.04s]  I just wanna tell you that I had enough\n",
      "[72.98s -> 76.56s]  Might sound crazy, but it ain't no lie\n",
      "[76.56s -> 78.62s]  Baby, bye, bye, bye\n",
      "[78.62s -> 80.96s]  Don't, don't, don't\n",
      "[80.96s -> 84.14s]  It just hit me with the truth\n",
      "[84.14s -> 86.90s]  Girl, you're more than welcome to\n",
      "[86.90s -> 90.14s]  So give me one good reason\n",
      "[90.14s -> 92.54s]  Baby, come on\n",
      "[92.54s -> 95.32s]  I live for you and me\n",
      "[95.32s -> 98.20s]  And now I really come to see\n",
      "[98.20s -> 101.32s]  That life would be much better\n",
      "[101.32s -> 103.54s]  Once you're gone\n",
      "[103.54s -> 107.14s]  I know that I can't take no more\n",
      "[107.14s -> 108.66s]  It ain't no lie\n",
      "[109.28s -> 112.60s]  I wanna see you out that door\n",
      "[112.60s -> 114.14s]  Baby, bye, bye, bye\n",
      "[114.14s -> 116.58s]  Don't wanna be a fool for you\n",
      "[117.14s -> 119.88s]  Just another painter in your game for two\n",
      "[119.88s -> 123.78s]  You may hate me, but it ain't no lie\n",
      "[123.78s -> 125.22s]  Baby, bye, bye, bye\n",
      "[126.14s -> 127.78s]  Don't really wanna make it tough\n",
      "[127.78s -> 130.46s]  I just wanna tell you that I had enough\n",
      "[131.32s -> 134.96s]  Might sound crazy, but it ain't no lie\n",
      "[134.96s -> 136.34s]  Baby, bye, bye, bye\n",
      "[139.56s -> 141.56s]  I'm giving up and over for sure\n",
      "[141.56s -> 144.54s]  I don't wanna be the reason for your love no more\n",
      "[144.54s -> 146.08s]  Bye, bye, I'm just kidding\n",
      "[146.08s -> 147.12s]  I'm sign enough\n",
      "[147.12s -> 149.92s]  I don't wanna be the loser and I've had enough\n",
      "[151.66s -> 154.90s]  I don't wanna be a fool\n",
      "[154.90s -> 157.72s]  In this game for two\n",
      "[157.72s -> 161.80s]  So I'm leaving you behind\n",
      "[162.92s -> 165.84s]  I don't wanna make it tough\n",
      "[165.84s -> 168.52s]  But I had enough\n",
      "[168.52s -> 171.86s]  And it ain't no lie\n",
      "[171.86s -> 174.98s]  I don't wanna be a fool for you\n",
      "[174.98s -> 177.78s]  Just another painter in your game for two\n",
      "[177.78s -> 182.20s]  You may hate me, but it ain't no lie\n",
      "[182.20s -> 183.90s]  Baby, bye, bye, bye\n",
      "[183.90s -> 186.10s]  Don't really wanna make it tough\n",
      "[186.10s -> 188.90s]  I just wanna tell you that I had enough\n",
      "[189.90s -> 193.40s]  Might sound crazy, but it ain't no lie\n",
      "[193.40s -> 194.76s]  Bye, bye, bye\n"
     ]
    }
   ],
   "source": [
    "import os\n",
    "import json\n",
    "\n",
    "base_path = os.path.join(os.getcwd(), \"sample\")\n",
    "\n",
    "language, segments = transcribe(audio=f\"{base_path}/vocal.wav\")\n",
    "\n",
    "# Convert the segments to JSON\n",
    "json_data = convert_to_json(segments)\n",
    "\n",
    "# Save the JSON data to a file\n",
    "with open(f\"{base_path}/transcription.json\", \"w\") as f:\n",
    "    json.dump(json_data, f, indent=4)\n",
    "\n",
    "print(f\"Transcription saved to {base_path}/transcription.json\")\n",
    "\n",
    "# Print the transcription\n",
    "print(f\"Language: {language}\")\n",
    "\n",
    "for segment in segments:\n",
    "    print(f\"Segment {segment.id}: {segment.text}\")\n",
    "    for word in segment.words:\n",
    "        print(f\"Word {word.word} at {word.start} - {word.end}\")"
   ]
  }
 ],
 "metadata": {
  "kernelspec": {
   "display_name": "Python 3 (ipykernel)",
   "language": "python",
   "name": "python3"
  },
  "language_info": {
   "codemirror_mode": {
    "name": "ipython",
    "version": 3
   },
   "file_extension": ".py",
   "mimetype": "text/x-python",
   "name": "python",
   "nbconvert_exporter": "python",
   "pygments_lexer": "ipython3",
   "version": "3.11.6"
  }
 },
 "nbformat": 4,
 "nbformat_minor": 2
}
